{
 "cells": [
  {
   "cell_type": "markdown",
   "metadata": {},
   "source": [
    "# make_tides:\n",
    "## Make tides\n",
    "### Version id:\n",
    "### v1\n",
    "### first go at converting\n",
    "### https://github.com/dgwyther/ROMSForcingCreator/blob/master/tides/make_tides.m"
   ]
  },
  {
   "cell_type": "code",
   "execution_count": 1,
   "metadata": {},
   "outputs": [
    {
     "name": "stdout",
     "output_type": "stream",
     "text": [
      "running locally\n",
      "\n"
     ]
    }
   ],
   "source": [
    "\n",
    "run ='shac'\n",
    "vers='2km_v3'\n",
    "plotting = False\n",
    "\n",
    "import numpy as np \n",
    "import matplotlib.pyplot as plt\n",
    "import matplotlib.gridspec as gridspec\n",
    "import os\n",
    "import sys\n",
    "import xarray as xr\n",
    "import scipy.io as sio\n",
    "from scipy.interpolate import griddata\n",
    "import datetime\n",
    "import cmocean\n",
    "# import h5py\n",
    "# import bathy_smoother\n",
    "# import pyresample\n",
    "\n",
    "import socket\n",
    "comp_name = socket.gethostname()\n",
    "if comp_name=='SEES-3PV4VV3':\n",
    "    print('running locally')\n",
    "else:\n",
    "    os.chdir('/g/data/jk72/deg581/shackleton-setup/notebooks')\n",
    "\n",
    "\n",
    "#proj_dir = os.path.join(os.pardir,os.pardir)\n",
    "proj_dir = os.path.abspath(os.path.join(os.getcwd(), os.pardir))\n",
    "data_dir = os.path.join(proj_dir,'data')\n",
    "src_dir = os.path.join(proj_dir,'src')\n",
    "\n",
    "sys.path.append(src_dir)\n",
    "\n",
    "from ext.tools.inverse_polar_stereo import inverse_polar_stereo\n",
    "from ext.tools.cartesian_grid_2d import haversine\n",
    "from ext.tools.NDinterp import NDinterp\n",
    "from ext.tools.smoothing_PlusMinus_rx0 import smoothing_PlusMinus_rx0\n",
    "from ext.tools.uvp_masks import uvp_masks\n",
    "\n",
    "\n",
    "\n",
    "\n",
    "\n",
    "# define coordinate transforms\n",
    "## convert convert polarstereo to lat/lon and vice versa.\n",
    "from pyproj import Transformer\n",
    "from pyproj import CRS\n",
    "ps_to_ll = Transformer.from_crs( \"EPSG:3031\",\"EPSG:4326\")\n",
    "ll_to_ps = Transformer.from_crs( \"EPSG:4326\",\"EPSG:3031\")\n",
    "\n",
    "# load my functions for calculating rx0,rx1 and adjusting the grid\n",
    "# from ext.tools.calc_z import calc_z as calc_z_old\n",
    "from functions import GridStiffness\n",
    "from functions.GridAdjustments import adjustWCT,adjustMask,smoothRegion,minWCTRegion\n",
    "\n",
    "# Set model vertical coordinate settings\n",
    "\n",
    "# N=31\n",
    "# Vtransform=2\n",
    "# Vstretching=4\n",
    "# theta_s=4\n",
    "# theta_b=1\n",
    "# Tcline=300\n",
    "# hc=Tcline # if Vtransform==2, hc=Tcline\n",
    "\n",
    "\n",
    "\n",
    "# set user parameter and call main routine\n",
    "#grd_file = os.path.join(data_dir,'proc',run+'_grd.nc')\n",
    "grd_file = os.path.join(data_dir,'proc','shac_2km_v3_grd.nc')\n",
    "out_file = os.path.join(data_dir,'proc',run+'_'+vers+'_tides.nc')\n"
   ]
  },
  {
   "cell_type": "code",
   "execution_count": 2,
   "metadata": {},
   "outputs": [],
   "source": [
    "# load grid file\n",
    "grd = xr.open_dataset(grd_file)"
   ]
  },
  {
   "cell_type": "code",
   "execution_count": 3,
   "metadata": {},
   "outputs": [],
   "source": [
    "# import necessary TMD modules\n",
    "\n",
    "import pyTMD.io\n",
    "import pyTMD.time\n",
    "import pyTMD.predict\n",
    "import pyTMD.tools\n",
    "import pyTMD.utilities\n",
    "\n",
    "import pyproj"
   ]
  },
  {
   "cell_type": "code",
   "execution_count": 4,
   "metadata": {},
   "outputs": [
    {
     "name": "stdout",
     "output_type": "stream",
     "text": [
      "not overwriting, already existing\n"
     ]
    },
    {
     "name": "stderr",
     "output_type": "stream",
     "text": [
      "/tmp/ipykernel_32651/995909472.py:16: SerializationWarning: saving variable hRe with floating point data as an integer dtype without any _FillValue to use for NaNs\n",
      "  cats2008_v2023.to_netcdf('../../amery-hires-setup/data/raw/CATS2008_v2023/CATS2008_v2023.nc')\n",
      "/tmp/ipykernel_32651/995909472.py:16: SerializationWarning: saving variable hIm with floating point data as an integer dtype without any _FillValue to use for NaNs\n",
      "  cats2008_v2023.to_netcdf('../../amery-hires-setup/data/raw/CATS2008_v2023/CATS2008_v2023.nc')\n"
     ]
    }
   ],
   "source": [
    "# corrrect some wierdness in teh cats2008_v2023 file from Chad\n",
    "import os\n",
    "if os.path.isfile('../../amery-hires-setup/data/raw/CATS2008_v2023/CATS2008_v2023_orig.nc'):\n",
    "    print('not overwriting, already existing')\n",
    "else:\n",
    "    !cp -p ../../amery-hires-setup/data/raw/CATS2008_v2023/CATS2008_v2023.nc ../../amery-hires-setup/data/raw/CATS2008_v2023/CATS2008_v2023_orig.nc\n",
    "cats2008_v2023 = xr.open_dataset('../../amery-hires-setup/data/raw/CATS2008_v2023/CATS2008_v2023_orig.nc')\n",
    "\n",
    "cats2008_v2023['uRe'] = cats2008_v2023.URe\n",
    "cats2008_v2023['uIm'] = cats2008_v2023.UIm\n",
    "\n",
    "cats2008_v2023['vRe'] = cats2008_v2023.VRe\n",
    "cats2008_v2023['vIm'] = cats2008_v2023.VIm\n",
    "\n",
    "\n",
    "cats2008_v2023.to_netcdf('../../amery-hires-setup/data/raw/CATS2008_v2023/CATS2008_v2023.nc')"
   ]
  },
  {
   "cell_type": "code",
   "execution_count": 5,
   "metadata": {},
   "outputs": [
    {
     "data": {
      "text/plain": [
       "['CATS0201',\n",
       " 'CATS2008',\n",
       " 'CATS2008-v2023',\n",
       " 'FES2014',\n",
       " 'HAMTIDE11',\n",
       " 'TPXO7.2',\n",
       " 'TPXO8-atlas',\n",
       " 'TPXO9-atlas',\n",
       " 'TPXO9-atlas-v2',\n",
       " 'TPXO9-atlas-v3',\n",
       " 'TPXO9-atlas-v4',\n",
       " 'TPXO9-atlas-v5',\n",
       " 'TPXO9.1']"
      ]
     },
     "execution_count": 5,
     "metadata": {},
     "output_type": "execute_result"
    }
   ],
   "source": [
    "# available model list\n",
    "model_list = sorted(pyTMD.io.model.global_current() + pyTMD.io.model.antarctic_current())\n",
    "model_list"
   ]
  },
  {
   "cell_type": "code",
   "execution_count": 6,
   "metadata": {},
   "outputs": [],
   "source": [
    "\n",
    "# display widgets for setting directory and model\n",
    "TMDwidgets = pyTMD.tools.widgets()\n",
    "TMDwidgets.model.options = model_list\n",
    "TMDwidgets.model.value = 'CATS2008-v2023'\n",
    "TMDwidgets.atlas.value = 'netcdf'\n",
    "TMDwidgets.compress.value = False\n",
    "TMDwidgets.datepick.value = datetime.date(2018, 1, 1)\n",
    "TMDwidgets.directory.value = '../../amery-hires-setup/data/raw/'\n",
    "# TMDwidgets.VBox([\n",
    "#     TMDwidgets.directory,\n",
    "#     TMDwidgets.model,\n",
    "#     TMDwidgets.atlas,\n",
    "#     TMDwidgets.compress,\n",
    "#     TMDwidgets.datepick\n",
    "# ])"
   ]
  },
  {
   "cell_type": "code",
   "execution_count": 7,
   "metadata": {},
   "outputs": [],
   "source": [
    "# get model parameters\n",
    "model = pyTMD.io.model(TMDwidgets.directory.value,\n",
    "    format=TMDwidgets.atlas.value,\n",
    "    compressed=TMDwidgets.compress.value\n",
    "   ).elevation(TMDwidgets.model.value)"
   ]
  },
  {
   "cell_type": "code",
   "execution_count": 8,
   "metadata": {},
   "outputs": [],
   "source": [
    "lon,lat = grd.lon_rho.values.flatten(),grd.lat_rho.values.flatten()"
   ]
  },
  {
   "cell_type": "code",
   "execution_count": 9,
   "metadata": {},
   "outputs": [
    {
     "data": {
      "text/plain": [
       "PosixPath('../../amery-hires-setup/data/raw/CATS2008_v2023/CATS2008_v2023.nc')"
      ]
     },
     "execution_count": 9,
     "metadata": {},
     "output_type": "execute_result"
    }
   ],
   "source": [
    "model.model_file"
   ]
  },
  {
   "cell_type": "code",
   "execution_count": 10,
   "metadata": {},
   "outputs": [],
   "source": [
    "# convert from calendar date to days relative to Jan 1, 1992 (48622 MJD)\n",
    "YMD = TMDwidgets.datepick.value\n",
    "tide_time = pyTMD.time.convert_calendar_dates(YMD.year, YMD.month,\n",
    "    YMD.day, hour=np.arange(24))\n",
    "# delta time (TT - UT1) file\n",
    "delta_file = pyTMD.utilities.get_data_path(['data','merged_deltat.data'])\n",
    "\n",
    "# save tide currents\n",
    "tide = {}\n",
    "# iterate over u and v currents\n",
    "for TYPE in model.type:\n",
    "    # read tidal constants and interpolate to grid points\n",
    "    if model.format in ('OTIS','ATLAS','TMD3'):\n",
    "        amp,ph,D,constituents = pyTMD.io.OTIS.extract_constants(lon, lat, model.grid_file,\n",
    "            model.model_file, model.projection, type=TYPE,\n",
    "            method='spline', grid=model.format)\n",
    "        DELTAT = np.zeros_like(tide_time)"
   ]
  },
  {
   "cell_type": "code",
   "execution_count": 11,
   "metadata": {},
   "outputs": [
    {
     "name": "stdout",
     "output_type": "stream",
     "text": [
      "['m2', 's2', 'n2', 'k2', 'k1', 'o1', 'p1', 'q1', 'mf', 'mm']\n"
     ]
    },
    {
     "data": {
      "text/plain": [
       "<matplotlib.colorbar.Colorbar at 0x7f38032fbb80>"
      ]
     },
     "execution_count": 11,
     "metadata": {},
     "output_type": "execute_result"
    },
    {
     "data": {
      "image/png": "[encoded data removed]",
      "text/plain": [
       "<Figure size 640x480 with 2 Axes>"
      ]
     },
     "metadata": {},
     "output_type": "display_data"
    }
   ],
   "source": [
    "# reshape extracted constituents to actual size\n",
    "amp_3d =np.reshape(amp,(*grd.lat_rho.shape,10))\n",
    "ph_3d =np.reshape(ph,(*grd.lat_rho.shape,10))\n",
    "print(constituents)\n",
    "plt.pcolormesh(amp_3d[:,:,1])\n",
    "plt.colorbar()"
   ]
  },
  {
   "cell_type": "code",
   "execution_count": 12,
   "metadata": {},
   "outputs": [],
   "source": [
    "def _constituent_parameters(c: str, **kwargs):\n",
    "    \"\"\"\n",
    "    Loads parameters for a given tidal constituent\n",
    "\n",
    "    Parameters\n",
    "    ----------\n",
    "    c: str\n",
    "        tidal constituent ID\n",
    "    raise_error: bool, default False\n",
    "        Raise exception if constituent is unsupported\n",
    "\n",
    "    Returns\n",
    "    -------\n",
    "    amplitude: float\n",
    "        amplitude of equilibrium tide for tidal constituent (meters)\n",
    "    phase: float\n",
    "        phase of tidal constituent (radians)\n",
    "    omega: float\n",
    "        angular frequency of constituent (radians)\n",
    "    alpha: float\n",
    "        load love number of tidal constituent\n",
    "    species: float\n",
    "        spherical harmonic dependence of quadrupole potential\n",
    "\n",
    "    References\n",
    "    ----------\n",
    "    .. [1] G. D. Egbert and S. Y. Erofeeva, \"Efficient Inverse Modeling of\n",
    "        Barotropic Ocean Tides,\" *Journal of Atmospheric and Oceanic\n",
    "        Technology*, 19(2), 183--204, (2002).\n",
    "        `doi: 10.1175/1520-0426(2002)019<0183:EIMOBO>2.0.CO;2`__\n",
    "\n",
    "    .. __: https://doi.org/10.1175/1520-0426(2002)019<0183:EIMOBO>2.0.CO;2\n",
    "    \"\"\"\n",
    "    # default keyword arguments\n",
    "    kwargs.setdefault('raise_error', False)\n",
    "    # constituents array that are included in tidal program\n",
    "    cindex = ['m2', 's2', 'k1', 'o1', 'n2', 'p1', 'k2', 'q1', '2n2', 'mu2',\n",
    "        'nu2', 'l2', 't2', 'j1', 'm1', 'oo1', 'rho1', 'mf', 'mm', 'ssa',\n",
    "        'm4', 'ms4', 'mn4', 'm6', 'm8', 'mk3', 's6', '2sm2', '2mk3',\n",
    "        'msf', 'sa', 'mt', '2q1']\n",
    "    # species type (spherical harmonic dependence of quadrupole potential)\n",
    "    _species = np.array([2, 2, 1, 1, 2, 1, 2, 1, 2, 2, 2, 2, 2, 1, 1,\n",
    "        1, 1, 0, 0, 0, 0, 0, 0, 0, 0, 0, 0, 0, 0, 0, 0, 0, 1])\n",
    "    # Load Love numbers\n",
    "    # alpha = correction factor for first order load tides\n",
    "    _alpha = np.array([0.693, 0.693, 0.736, 0.695, 0.693, 0.706, 0.693,\n",
    "        0.695, 0.693, 0.693, 0.693, 0.693, 0.693, 0.695, 0.695, 0.695, 0.695,\n",
    "        0.693, 0.693, 0.693, 0.693, 0.693, 0.693, 0.693, 0.693, 0.693, 0.693,\n",
    "        0.693, 0.693, 0.693, 0.693, 0.693, 0.693])\n",
    "    # omega: angular frequency of constituent, in radians\n",
    "    _omega = np.array([1.405189e-04, 1.454441e-04, 7.292117e-05, 6.759774e-05,\n",
    "        1.378797e-04, 7.252295e-05, 1.458423e-04, 6.495854e-05, 1.352405e-04,\n",
    "        1.355937e-04, 1.382329e-04, 1.431581e-04, 1.452450e-04, 7.556036e-05,\n",
    "        7.028195e-05, 7.824458e-05, 6.531174e-05, 0.053234e-04, 0.026392e-04,\n",
    "        0.003982e-04, 2.810377e-04, 2.859630e-04, 2.783984e-04, 4.215566e-04,\n",
    "        5.620755e-04, 2.134402e-04, 4.363323e-04, 1.503693e-04, 2.081166e-04,\n",
    "        4.925200e-06, 1.990970e-07, 7.962619e-06, 6.231934e-05])\n",
    "    # Astronomical arguments (relative to t0 = 1 Jan 0:00 1992)\n",
    "    # phases for each constituent are referred to the time when the phase of\n",
    "    # the forcing for that constituent is zero on the Greenwich meridian\n",
    "    _phase = np.array([1.731557546, 0.000000000, 0.173003674, 1.558553872,\n",
    "        6.050721243, 6.110181633, 3.487600001, 5.877717569, 4.086699633,\n",
    "        3.463115091, 5.427136701, 0.553986502, 0.052841931, 2.137025284,\n",
    "        2.436575100, 1.929046130, 5.254133027, 1.756042456, 1.964021610,\n",
    "        3.487600001, 3.463115091, 1.731557546, 1.499093481, 5.194672637,\n",
    "        6.926230184, 1.904561220, 0.000000000, 4.551627762, 3.809122439,\n",
    "        4.551627762, 6.232786837, 3.720064066, 3.91369596])\n",
    "    # amplitudes of equilibrium tide in meters\n",
    "    # _amplitude = np.array([0.242334,0.112743,0.141565,0.100661,0.046397,\n",
    "    _amplitude = np.array([0.2441, 0.112743, 0.141565, 0.100661, 0.046397,\n",
    "        0.046848, 0.030684, 0.019273, 0.006141, 0.007408, 0.008811, 0.006931,\n",
    "        0.006608, 0.007915, 0.007915, 0.004338, 0.003661, 0.042041, 0.022191,\n",
    "        0.019567, 0., 0., 0., 0., 0., 0., 0., 0., 0., 0.003681, 0.003104,\n",
    "        0.008044, 0.002565])\n",
    "\n",
    "    # map between input constituent and cindex\n",
    "    j = [j for j,val in enumerate(cindex) if (val == c.lower())]\n",
    "    # set the values for the constituent\n",
    "    if j:\n",
    "        amplitude, = _amplitude[j]\n",
    "        phase, = _phase[j]\n",
    "        omega, = _omega[j]\n",
    "        alpha, = _alpha[j]\n",
    "        species, = _species[j]\n",
    "    elif kwargs['raise_error']:\n",
    "        raise ValueError(f'Unsupported constituent {c}')\n",
    "    else:\n",
    "        amplitude = 0.0\n",
    "        phase = 0.0\n",
    "        omega = 0.0\n",
    "        alpha = 0.0\n",
    "        species = 0\n",
    "    # return the values for the constituent\n",
    "    return (amplitude, phase, omega, alpha, species)"
   ]
  },
  {
   "cell_type": "code",
   "execution_count": 13,
   "metadata": {},
   "outputs": [
    {
     "name": "stdout",
     "output_type": "stream",
     "text": [
      "m2\n",
      "12.420601442185568\n",
      "s2\n",
      "12.000000357486687\n",
      "n2\n",
      "12.658348197699366\n",
      "k2\n",
      "11.967236199609644\n",
      "k1\n",
      "23.934465834740852\n",
      "o1\n",
      "25.81934325014904\n",
      "p1\n",
      "24.0658888254591\n",
      "q1\n",
      "26.868357139712955\n",
      "mf\n",
      "327.85987376382195\n",
      "mm\n",
      "661.3099621075816\n"
     ]
    }
   ],
   "source": [
    "# make vector with all hourly periods\n",
    "period = np.ones((len(constituents),1))*np.NaN\n",
    "for i,cons in enumerate(constituents):\n",
    "    print(cons)\n",
    "    _,_,angfreq,_,_ = _constituent_parameters(cons)\n",
    "    T = 2*np.pi/angfreq / (60*60)\n",
    "    print(T)\n",
    "    period[i] = T\n",
    "    \n",
    "period = period.squeeze()"
   ]
  },
  {
   "cell_type": "code",
   "execution_count": 14,
   "metadata": {},
   "outputs": [],
   "source": [
    "# tmask.isel(xi_rho=-1).plot()\n",
    "# grd.mask_rho.shape[0]"
   ]
  },
  {
   "cell_type": "code",
   "execution_count": 15,
   "metadata": {},
   "outputs": [],
   "source": [
    "# Do we want to only force the boundaries?\n",
    "only_force_bnds = 1\n",
    "if only_force_bnds: # only force boundaries\n",
    "    tmask = np.zeros(grd.lat_rho.shape)\n",
    "    tmask[:,0] = 1\n",
    "    tmask[:,-1] = 1\n",
    "    tmask[0, ]= 1\n",
    "    tmask[-1,] = 1\n",
    "    \n",
    "        \n",
    "    # add extra buffer\n",
    "    # tmask[0,:]=0\n",
    "    # tmask[-1,:]=0\n",
    "    # tmask[:,-1]=0\n",
    "    tmask = tmask*0.5\n",
    "    \n",
    "    # under_ice_mask = grd.mask_rho[grd.zice < 0] = 0; # don't force under ice shelves\n",
    "    mask_nozice = grd.mask_rho.where(grd.zice>=0,0) * grd.mask_rho\n",
    "    \n",
    "    tmask = tmask*grd.mask_rho*mask_nozice\n",
    "\n",
    "    \n",
    "    tmask_big=np.ones((grd.mask_rho.shape[0],grd.mask_rho.shape[1],10))*np.NaN    \n",
    "    for nn in range(len(constituents)):\n",
    "        tmask_big[:,:,nn] = tmask\n",
    "# elif 0: # force whole surface\n",
    "#     # mask_zice = ncread(grdname,'mask_zice')';\n",
    "#     # tmask = ones(pp,qq);\n",
    "#     # %ma = mask_rho;\n",
    "#     # mask_rho(mask_zice == 1) = 0;\n",
    "\n",
    "# plt.figure(figsize=(10,10))\n",
    "# plt.pcolormesh(tmask*grd.mask_rho*mask_nozice)\n",
    "# plt.axis((-10,910,-10,800))\n",
    "# plt.colorbar()\n",
    "# plt.show()\n",
    "\n",
    "# plt.figure(figsize=(10,10))\n",
    "# plt.pcolormesh(mask_nozice)\n",
    "# plt.axis((-10,910,-10,800))\n",
    "# plt.colorbar()\n",
    "\n",
    "# plt.figure(figsize=(10,10))\n",
    "# plt.pcolormesh(mask_nozice*grd.zice)\n",
    "# plt.axis((-10,910,-10,800))\n",
    "# plt.colorbar()\n",
    "    # mask out ice shelves and non-ocean, and fill nan with 0.\n",
    "    amp_3d_unm = amp_3d.copy()\n",
    "    ph_3d_unm = ph_3d.copy()\n",
    "    amp_3d = amp_3d.filled(fill_value=0)*tmask_big\n",
    "    ph_3d = ph_3d.filled(fill_value=0)*tmask_big\n",
    "\n"
   ]
  },
  {
   "cell_type": "code",
   "execution_count": 16,
   "metadata": {},
   "outputs": [
    {
     "name": "stdout",
     "output_type": "stream",
     "text": [
      "no NaN in tide_Eamp\n",
      "no NaN in tide_Ephase\n",
      "no NaN in tide_period\n"
     ]
    }
   ],
   "source": [
    "# check for nans and other bad values\n",
    "variables = ['tide_Eamp','tide_Ephase','tide_period']\n",
    "\n",
    "\n",
    "\n",
    "for arr_name in variables:\n",
    "    arr = locals().get(arr_name)\n",
    "    if arr is not None:\n",
    "        if np.isnan(arr).any():\n",
    "            print(f\"Warning: NaN found in array '{arr_name}'\")\n",
    "    else:\n",
    "        print('no NaN in '+arr_name)\n",
    "            \n"
   ]
  },
  {
   "cell_type": "code",
   "execution_count": 17,
   "metadata": {},
   "outputs": [],
   "source": [
    "\n",
    "tide_Eamp_da = xr.DataArray(amp_3d,name='tide_Eamp',dims=['eta_rho','xi_rho','tide_period'],attrs={'long_name': 'tidal elevation amplitude',\n",
    " 'units': 'metres',\n",
    " 'field': 'tide_Eamp, scalar'})\n",
    "tide_Ephase_da = xr.DataArray(ph_3d,name='tide_Ephase',dims=['eta_rho','xi_rho','tide_period'],attrs={'long_name': 'tidal elevation phase angle',\n",
    "'units': 'degrees, time of maximum elevation with respect to chosen time origin',\n",
    " 'field': 'tide_Ephase, scalar'})\n",
    "tide_Eamp_unmasked_da = xr.DataArray(amp_3d_unm,name='tide_Eamp_unmasked',dims=['eta_rho','xi_rho','tide_period'],attrs={'long_name': 'tidal elevation amplitude, unmasked',\n",
    " 'units': 'metres',\n",
    " 'field': 'tide_Eamp, scalar'})\n",
    "tide_Ephase_unmasked_da = xr.DataArray(ph_3d_unm,name='tide_Ephase_unmasked',dims=['eta_rho','xi_rho','tide_period'],attrs={'long_name': 'tidal elevation phase angle, unmasked',\n",
    "'units': 'degrees, time of maximum elevation with respect to chosen time origin',\n",
    " 'field': 'tide_Ephase, scalar'})\n",
    "tide_period_da = xr.DataArray(period,name='tide_period',dims=['tide_period'],attrs={ 'long_name': 'tide angular period',\n",
    "'units':'hours',\n",
    "'field':'tide_period, scalar'})\n",
    "\n",
    "\n",
    "\n",
    "tds = xr.Dataset({'tide_Eamp':tide_Eamp_da,\n",
    "                'tide_Ephase':tide_Ephase_da,\n",
    "                'tide_Eamp_unmasked':tide_Eamp_unmasked_da,\n",
    "                'tide_Ephase_unmasked':tide_Ephase_unmasked_da,\n",
    "                'tide_period':tide_period_da},\n",
    "               attrs={'title':run+'_'+vers+'_tides.nc',\n",
    "                      'history': 'TIDE file using make_tide.py,'+str(datetime.date.today()),\n",
    "                      'type': 'ROMS grid file',\n",
    "                      'grd_file':grd_file,\n",
    "                      'components':constituents})\n",
    "\n",
    "tds = tds.assign_coords({'tide_period':tide_period_da})\n",
    "\n",
    "# reorganise dimensions\n",
    "tds = tds.transpose('tide_period','eta_rho','xi_rho')"
   ]
  },
  {
   "cell_type": "code",
   "execution_count": 18,
   "metadata": {},
   "outputs": [
    {
     "name": "stdout",
     "output_type": "stream",
     "text": [
      "saving to /home/woden/Documents/shackleton-setup/data/proc/shac_2km_v3_tides.nc\n"
     ]
    }
   ],
   "source": [
    "print('saving to',out_file)\n",
    "tds.to_netcdf(out_file)"
   ]
  }
 ],
 "metadata": {
  "kernelspec": {
   "display_name": "devel3.10",
   "language": "python",
   "name": "python3"
  },
  "language_info": {
   "codemirror_mode": {
    "name": "ipython",
    "version": 3
   },
   "file_extension": ".py",
   "mimetype": "text/x-python",
   "name": "python",
   "nbconvert_exporter": "python",
   "pygments_lexer": "ipython3",
   "version": "3.10.10"
  }
 },
 "nbformat": 4,
 "nbformat_minor": 4
}
